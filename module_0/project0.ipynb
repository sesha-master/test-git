{
  "nbformat": 4,
  "nbformat_minor": 0,
  "metadata": {
    "colab": {
      "name": "project0.ipynb",
      "provenance": [],
      "collapsed_sections": [],
      "authorship_tag": "ABX9TyNXiPTmZOn2wc6YA0ajebT3"
    },
    "kernelspec": {
      "name": "python3",
      "display_name": "Python 3"
    }
  },
  "cells": [
    {
      "cell_type": "code",
      "metadata": {
        "colab": {
          "base_uri": "https://localhost:8080/"
        },
        "id": "4LjuB13YaudA",
        "outputId": "95738705-b98c-4ccc-dd2b-18aee9f47623"
      },
      "source": [
        "import numpy as np\n",
        "\n",
        "def game_core_v3(number):\n",
        "    '''Сначала устанавливаем число, равное 50% интервала, а потом изменяем число методом деления пополам, уменьшая границы интервала, в котором находится загаданное число'''\n",
        "    count = 1\n",
        "    predict = 50 #Предполагаемое число\n",
        "    min_range = 0 #Нижняя граница интервала\n",
        "    max_range = 100 #Верхняя граница интервала\n",
        "    while number != predict:\n",
        "        count+=1\n",
        "        if predict > number:\n",
        "            max_range = predict\n",
        "        else: \n",
        "            min_range = predict\n",
        "        predict = round((max_range+min_range)/2)\n",
        "    return(count) # выход из цикла, если угадали\n",
        "\n",
        "def score_game(game_core):\n",
        "    '''Запускаем игру 1000 раз, чтобы узнать, как быстро игра угадывает число'''\n",
        "    count_ls = []\n",
        "    np.random.seed(1)  # фиксируем RANDOM SEED, чтобы ваш эксперимент был воспроизводим!\n",
        "    random_array = np.random.randint(1,101, size=(1000))\n",
        "    for number in random_array:\n",
        "        count_ls.append(game_core(number))\n",
        "    score = int(np.mean(count_ls))\n",
        "    print(f\"Ваш алгоритм угадывает число в среднем за {score} попыток\")\n",
        "    return(score)\n",
        "\n",
        "score_game(game_core_v3)"
      ],
      "execution_count": 5,
      "outputs": [
        {
          "output_type": "stream",
          "text": [
            "Ваш алгоритм угадывает число в среднем за 5 попыток\n"
          ],
          "name": "stdout"
        },
        {
          "output_type": "execute_result",
          "data": {
            "text/plain": [
              "5"
            ]
          },
          "metadata": {
            "tags": []
          },
          "execution_count": 5
        }
      ]
    }
  ]
}