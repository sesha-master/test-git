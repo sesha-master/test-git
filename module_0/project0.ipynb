{
  "nbformat": 4,
  "nbformat_minor": 0,
  "metadata": {
    "colab": {
      "name": "project0.ipynb",
      "provenance": [],
      "collapsed_sections": [],
      "authorship_tag": "ABX9TyMLKo31e29L8ek8I9uRMdy9"
    },
    "kernelspec": {
      "name": "python3",
      "display_name": "Python 3"
    }
  },
  "cells": [
    {
      "cell_type": "code",
      "metadata": {
        "colab": {
          "base_uri": "https://localhost:8080/"
        },
        "id": "4LjuB13YaudA",
        "outputId": "ddfb9898-404f-4abe-e2a6-f680360229c3"
      },
      "source": [
        "import numpy as np\n",
        "\n",
        "def game_core_v2(number):\n",
        "    '''Сначала устанавливаем любое random число, а потом уменьшаем или увеличиваем его в зависимости от того, больше оно или меньше нужного.\n",
        "       Функция принимает загаданное число и возвращает число попыток'''\n",
        "    count = 1\n",
        "    predict = np.random.randint(1,101)\n",
        "    while number != predict:\n",
        "        count+=1\n",
        "        if number > predict: \n",
        "            predict += 1\n",
        "        elif number < predict: \n",
        "            predict -= 1\n",
        "    return(count) # выход из цикла, если угадали\n",
        "        \n",
        "def game_core_v3(number):\n",
        "    '''Сначала устанавливаем любое random число, а потом уменьшаем или увеличиваем его в зависимости от того, больше оно или меньше нужного.\n",
        "       Функция принимает загаданное число и возвращает число попыток'''\n",
        "    count = 1\n",
        "    predict = np.random.randint(1,101)\n",
        "    while number != predict:\n",
        "        count+=1\n",
        "        if number > predict: \n",
        "            predict += 1\n",
        "        elif number < predict: \n",
        "            predict -= 1\n",
        "    return(count) # выход из цикла, если угадали\n",
        "\n",
        "def score_game(game_core):\n",
        "    '''Запускаем игру 1000 раз, чтобы узнать, как быстро игра угадывает число'''\n",
        "    count_ls = []\n",
        "    np.random.seed(1)  # фиксируем RANDOM SEED, чтобы ваш эксперимент был воспроизводим!\n",
        "    random_array = np.random.randint(1,101, size=(1000))\n",
        "    for number in random_array:\n",
        "        count_ls.append(game_core(number))\n",
        "    score = int(np.mean(count_ls))\n",
        "    print(f\"Ваш алгоритм угадывает число в среднем за {score} попыток\")\n",
        "    return(score)\n",
        "\n",
        "score_game(game_core_v2)"
      ],
      "execution_count": null,
      "outputs": [
        {
          "output_type": "stream",
          "text": [
            "Ваш алгоритм угадывает число в среднем за 33 попыток\n"
          ],
          "name": "stdout"
        },
        {
          "output_type": "execute_result",
          "data": {
            "text/plain": [
              "33"
            ]
          },
          "metadata": {
            "tags": []
          },
          "execution_count": 5
        }
      ]
    }
  ]
}