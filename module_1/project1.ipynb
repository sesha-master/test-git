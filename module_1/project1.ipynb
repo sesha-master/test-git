{
  "nbformat": 4,
  "nbformat_minor": 0,
  "metadata": {
    "colab": {
      "name": "project1.ipynb",
      "provenance": [],
      "collapsed_sections": [],
      "include_colab_link": true
    },
    "kernelspec": {
      "display_name": "Python 3",
      "language": "python",
      "name": "python3"
    },
    "language_info": {
      "codemirror_mode": {
        "name": "ipython",
        "version": 3
      },
      "file_extension": ".py",
      "mimetype": "text/x-python",
      "name": "python",
      "nbconvert_exporter": "python",
      "pygments_lexer": "ipython3",
      "version": "3.7.4"
    }
  },
  "cells": [
    {
      "cell_type": "markdown",
      "metadata": {
        "id": "view-in-github",
        "colab_type": "text"
      },
      "source": [
        "<a href=\"https://colab.research.google.com/github/sesha-master/test-git/blob/master/module_1/project1.ipynb\" target=\"_parent\"><img src=\"https://colab.research.google.com/assets/colab-badge.svg\" alt=\"Open In Colab\"/></a>"
      ]
    },
    {
      "cell_type": "code",
      "metadata": {
        "id": "U2D2gTdJVp90"
      },
      "source": [
        "import numpy as np\n",
        "import pandas as pd\n",
        "import seaborn as sns\n",
        "import matplotlib.pyplot as plt\n",
        "from collections import Counter"
      ],
      "execution_count": 66,
      "outputs": []
    },
    {
      "cell_type": "code",
      "metadata": {
        "colab": {
          "base_uri": "https://localhost:8080/"
        },
        "id": "usaAoXDDU5yO",
        "outputId": "30fe50cb-69e0-4e1e-ec79-cb24caa01df4"
      },
      "source": [
        "from google.colab import drive\n",
        "drive.mount('/content/drive/')"
      ],
      "execution_count": 3,
      "outputs": [
        {
          "output_type": "stream",
          "text": [
            "Mounted at /content/drive/\n"
          ],
          "name": "stdout"
        }
      ]
    },
    {
      "cell_type": "code",
      "metadata": {
        "colab": {
          "base_uri": "https://localhost:8080/",
          "height": 564
        },
        "id": "oyGfxL3eVp9-",
        "outputId": "7cdaa14a-b97f-4836-981d-69561d6daa02"
      },
      "source": [
        "#data = pd.read_csv('movie_bd_v5.csv')\n",
        "data = pd.read_csv('/content/drive/MyDrive/Colab Notebooks/files/movie_bd_v5.csv')\n",
        "data.sample(5)"
      ],
      "execution_count": 67,
      "outputs": [
        {
          "output_type": "execute_result",
          "data": {
            "text/html": [
              "<div>\n",
              "<style scoped>\n",
              "    .dataframe tbody tr th:only-of-type {\n",
              "        vertical-align: middle;\n",
              "    }\n",
              "\n",
              "    .dataframe tbody tr th {\n",
              "        vertical-align: top;\n",
              "    }\n",
              "\n",
              "    .dataframe thead th {\n",
              "        text-align: right;\n",
              "    }\n",
              "</style>\n",
              "<table border=\"1\" class=\"dataframe\">\n",
              "  <thead>\n",
              "    <tr style=\"text-align: right;\">\n",
              "      <th></th>\n",
              "      <th>imdb_id</th>\n",
              "      <th>budget</th>\n",
              "      <th>revenue</th>\n",
              "      <th>original_title</th>\n",
              "      <th>cast</th>\n",
              "      <th>director</th>\n",
              "      <th>tagline</th>\n",
              "      <th>overview</th>\n",
              "      <th>runtime</th>\n",
              "      <th>genres</th>\n",
              "      <th>production_companies</th>\n",
              "      <th>release_date</th>\n",
              "      <th>vote_average</th>\n",
              "      <th>release_year</th>\n",
              "    </tr>\n",
              "  </thead>\n",
              "  <tbody>\n",
              "    <tr>\n",
              "      <th>189</th>\n",
              "      <td>tt2096672</td>\n",
              "      <td>40000000</td>\n",
              "      <td>169837010</td>\n",
              "      <td>Dumb and Dumber To</td>\n",
              "      <td>Jim Carrey|Jeff Daniels|Rachel Melvin|Kathleen...</td>\n",
              "      <td>Bobby Farrelly|Peter Farrelly</td>\n",
              "      <td>The Second Parts Are More Fools</td>\n",
              "      <td>20 years after the dimwits set out on their fi...</td>\n",
              "      <td>110</td>\n",
              "      <td>Comedy</td>\n",
              "      <td>New Line Cinema|Universal Pictures|Conundrum E...</td>\n",
              "      <td>11/12/2014</td>\n",
              "      <td>5.5</td>\n",
              "      <td>2014</td>\n",
              "    </tr>\n",
              "    <tr>\n",
              "      <th>1785</th>\n",
              "      <td>tt0368794</td>\n",
              "      <td>20000000</td>\n",
              "      <td>4001121</td>\n",
              "      <td>I'm Not There.</td>\n",
              "      <td>Cate Blanchett|Heath Ledger|Julianne Moore|Ben...</td>\n",
              "      <td>Todd Haynes</td>\n",
              "      <td>All I Can Do Is Be Me Whoever That Is</td>\n",
              "      <td>Six actors portray six personas of music legen...</td>\n",
              "      <td>135</td>\n",
              "      <td>Drama|Music</td>\n",
              "      <td>Endgame Entertainment|Rising Star|Killer Films...</td>\n",
              "      <td>10/1/2007</td>\n",
              "      <td>6.5</td>\n",
              "      <td>2007</td>\n",
              "    </tr>\n",
              "    <tr>\n",
              "      <th>1812</th>\n",
              "      <td>tt0187393</td>\n",
              "      <td>110000000</td>\n",
              "      <td>215294342</td>\n",
              "      <td>The Patriot</td>\n",
              "      <td>Mel Gibson|Heath Ledger|Joely Richardson|Jason...</td>\n",
              "      <td>Roland Emmerich</td>\n",
              "      <td>Some things are worth fighting for.</td>\n",
              "      <td>After proving himself on the field of battle i...</td>\n",
              "      <td>165</td>\n",
              "      <td>Drama|History|War|Action</td>\n",
              "      <td>Centropolis Entertainment|Columbia Pictures Co...</td>\n",
              "      <td>6/28/2000</td>\n",
              "      <td>6.7</td>\n",
              "      <td>2000</td>\n",
              "    </tr>\n",
              "    <tr>\n",
              "      <th>1830</th>\n",
              "      <td>tt0144084</td>\n",
              "      <td>7000000</td>\n",
              "      <td>34266564</td>\n",
              "      <td>American Psycho</td>\n",
              "      <td>Christian Bale|Willem Dafoe|Jared Leto|Josh Lu...</td>\n",
              "      <td>Mary Harron</td>\n",
              "      <td>I think my mask of sanity is about to slip.</td>\n",
              "      <td>A wealthy New York investment banking executiv...</td>\n",
              "      <td>102</td>\n",
              "      <td>Thriller|Drama|Crime</td>\n",
              "      <td>Lions Gate Films|Edward R. Pressman Film|Muse ...</td>\n",
              "      <td>4/13/2000</td>\n",
              "      <td>7.1</td>\n",
              "      <td>2000</td>\n",
              "    </tr>\n",
              "    <tr>\n",
              "      <th>1215</th>\n",
              "      <td>tt1691917</td>\n",
              "      <td>50000000</td>\n",
              "      <td>219788712</td>\n",
              "      <td>Planes</td>\n",
              "      <td>Dane Cook|Carlos Alazraqui|Val Kilmer|Julia Lo...</td>\n",
              "      <td>Klay Hall</td>\n",
              "      <td>From above the world of Cars</td>\n",
              "      <td>Dusty is a cropdusting plane who dreams of com...</td>\n",
              "      <td>91</td>\n",
              "      <td>Animation|Family|Adventure|Comedy</td>\n",
              "      <td>Walt Disney Pictures|Walt Disney Animation Stu...</td>\n",
              "      <td>8/9/2013</td>\n",
              "      <td>5.7</td>\n",
              "      <td>2013</td>\n",
              "    </tr>\n",
              "  </tbody>\n",
              "</table>\n",
              "</div>"
            ],
            "text/plain": [
              "        imdb_id     budget    revenue  ... release_date vote_average release_year\n",
              "189   tt2096672   40000000  169837010  ...   11/12/2014          5.5         2014\n",
              "1785  tt0368794   20000000    4001121  ...    10/1/2007          6.5         2007\n",
              "1812  tt0187393  110000000  215294342  ...    6/28/2000          6.7         2000\n",
              "1830  tt0144084    7000000   34266564  ...    4/13/2000          7.1         2000\n",
              "1215  tt1691917   50000000  219788712  ...     8/9/2013          5.7         2013\n",
              "\n",
              "[5 rows x 14 columns]"
            ]
          },
          "metadata": {
            "tags": []
          },
          "execution_count": 67
        }
      ]
    },
    {
      "cell_type": "code",
      "metadata": {
        "colab": {
          "base_uri": "https://localhost:8080/",
          "height": 297
        },
        "id": "CoYUnagMVp-C",
        "outputId": "04b4023e-af3c-4c50-aa6a-74bb4808d60c"
      },
      "source": [
        "data.describe()"
      ],
      "execution_count": null,
      "outputs": [
        {
          "output_type": "execute_result",
          "data": {
            "text/html": [
              "<div>\n",
              "<style scoped>\n",
              "    .dataframe tbody tr th:only-of-type {\n",
              "        vertical-align: middle;\n",
              "    }\n",
              "\n",
              "    .dataframe tbody tr th {\n",
              "        vertical-align: top;\n",
              "    }\n",
              "\n",
              "    .dataframe thead th {\n",
              "        text-align: right;\n",
              "    }\n",
              "</style>\n",
              "<table border=\"1\" class=\"dataframe\">\n",
              "  <thead>\n",
              "    <tr style=\"text-align: right;\">\n",
              "      <th></th>\n",
              "      <th>budget</th>\n",
              "      <th>revenue</th>\n",
              "      <th>runtime</th>\n",
              "      <th>vote_average</th>\n",
              "      <th>release_year</th>\n",
              "    </tr>\n",
              "  </thead>\n",
              "  <tbody>\n",
              "    <tr>\n",
              "      <th>count</th>\n",
              "      <td>1.889000e+03</td>\n",
              "      <td>1.889000e+03</td>\n",
              "      <td>1889.000000</td>\n",
              "      <td>1889.000000</td>\n",
              "      <td>1889.000000</td>\n",
              "    </tr>\n",
              "    <tr>\n",
              "      <th>mean</th>\n",
              "      <td>5.431083e+07</td>\n",
              "      <td>1.553653e+08</td>\n",
              "      <td>109.658549</td>\n",
              "      <td>6.140762</td>\n",
              "      <td>2007.860773</td>\n",
              "    </tr>\n",
              "    <tr>\n",
              "      <th>std</th>\n",
              "      <td>4.858721e+07</td>\n",
              "      <td>2.146698e+08</td>\n",
              "      <td>18.017041</td>\n",
              "      <td>0.764763</td>\n",
              "      <td>4.468841</td>\n",
              "    </tr>\n",
              "    <tr>\n",
              "      <th>min</th>\n",
              "      <td>5.000000e+06</td>\n",
              "      <td>2.033165e+06</td>\n",
              "      <td>63.000000</td>\n",
              "      <td>3.300000</td>\n",
              "      <td>2000.000000</td>\n",
              "    </tr>\n",
              "    <tr>\n",
              "      <th>25%</th>\n",
              "      <td>2.000000e+07</td>\n",
              "      <td>3.456058e+07</td>\n",
              "      <td>97.000000</td>\n",
              "      <td>5.600000</td>\n",
              "      <td>2004.000000</td>\n",
              "    </tr>\n",
              "    <tr>\n",
              "      <th>50%</th>\n",
              "      <td>3.800000e+07</td>\n",
              "      <td>8.361541e+07</td>\n",
              "      <td>107.000000</td>\n",
              "      <td>6.100000</td>\n",
              "      <td>2008.000000</td>\n",
              "    </tr>\n",
              "    <tr>\n",
              "      <th>75%</th>\n",
              "      <td>7.200000e+07</td>\n",
              "      <td>1.782626e+08</td>\n",
              "      <td>120.000000</td>\n",
              "      <td>6.600000</td>\n",
              "      <td>2012.000000</td>\n",
              "    </tr>\n",
              "    <tr>\n",
              "      <th>max</th>\n",
              "      <td>3.800000e+08</td>\n",
              "      <td>2.781506e+09</td>\n",
              "      <td>214.000000</td>\n",
              "      <td>8.100000</td>\n",
              "      <td>2015.000000</td>\n",
              "    </tr>\n",
              "  </tbody>\n",
              "</table>\n",
              "</div>"
            ],
            "text/plain": [
              "             budget       revenue      runtime  vote_average  release_year\n",
              "count  1.889000e+03  1.889000e+03  1889.000000   1889.000000   1889.000000\n",
              "mean   5.431083e+07  1.553653e+08   109.658549      6.140762   2007.860773\n",
              "std    4.858721e+07  2.146698e+08    18.017041      0.764763      4.468841\n",
              "min    5.000000e+06  2.033165e+06    63.000000      3.300000   2000.000000\n",
              "25%    2.000000e+07  3.456058e+07    97.000000      5.600000   2004.000000\n",
              "50%    3.800000e+07  8.361541e+07   107.000000      6.100000   2008.000000\n",
              "75%    7.200000e+07  1.782626e+08   120.000000      6.600000   2012.000000\n",
              "max    3.800000e+08  2.781506e+09   214.000000      8.100000   2015.000000"
            ]
          },
          "metadata": {
            "tags": []
          },
          "execution_count": 21
        }
      ]
    },
    {
      "cell_type": "markdown",
      "metadata": {
        "id": "DTIt7ezGVp-G"
      },
      "source": [
        "# Предобработка"
      ]
    },
    {
      "cell_type": "code",
      "metadata": {
        "id": "jNb40DwKVp-H"
      },
      "source": [
        "answers = {} # создадим словарь для ответов\n",
        "\n",
        "#предобработки:\n",
        "#создаем колонку profit = revenue - budget\n",
        "data['profit'] = data['revenue'] - data['budget']\n",
        "\n",
        "#сохраняем первоначальный датасет\n",
        "data_old = data\n",
        "#преобразовываем столбец в формат даты для заданий 2Х\n",
        "data_old['release_date'] = pd.to_datetime(data_old['release_date'], format=\"%m/%d/%Y\")\n",
        "#создаем отдельный столбец с месяцем\n",
        "data_old['month'] = data_old['release_date'].dt.month\n",
        "\n",
        "#во всех столбцах, содержащих несколько записей, разделяем значения и далее создаем отдельные строки для каждого из значений\n",
        "data['new_genres'] = data.genres.str.split(\"|\")\n",
        "data = data.explode('new_genres')\n",
        "data['new_director'] = data.director.str.split(\"|\")\n",
        "data = data.explode('new_director')\n",
        "data['new_cast'] = data.cast.str.split(\"|\")\n",
        "data = data.explode('new_cast')\n",
        "data['new_production_companies'] = data.production_companies.str.split(\"|\")\n",
        "data = data.explode('new_production_companies')"
      ],
      "execution_count": 68,
      "outputs": []
    },
    {
      "cell_type": "markdown",
      "metadata": {
        "id": "YxZaH-nPVp-L"
      },
      "source": [
        "# 1. У какого фильма из списка самый большой бюджет?"
      ]
    },
    {
      "cell_type": "markdown",
      "metadata": {
        "id": "Nd-G5gX6Vp-M"
      },
      "source": [
        "Использовать варианты ответов в коде решения запрещено.    \n",
        "Вы думаете и в жизни у вас будут варианты ответов?)"
      ]
    },
    {
      "cell_type": "code",
      "metadata": {
        "id": "uVnXAY5RVp-O"
      },
      "source": [
        "# в словарь вставляем номер вопроса и ваш ответ на него\n",
        "answers['1'] = '5. Pirates of the Caribbean: On Stranger Tides (tt1298650)'\n",
        "answers['2'] = '2. Gods and Generals (tt0279111)'\n",
        "answers['3'] = '3. Winnie the Pooh (tt1449283)'\n",
        "answers['4'] = '2. 110'\n",
        "answers['5'] = '1. 107'\n",
        "answers['6'] = '5. Avatar (tt0499549)'\n",
        "answers['7'] = '5. The Lone Ranger (tt1210819)'\n",
        "answers['8'] = '1. 1478'\n",
        "answers['9'] = '4. The Dark Knight (tt0468569)'\n",
        "answers['10'] = '5. The Lone Ranger (tt1210819)'\n",
        "answers['11'] = '3. Drama'\n",
        "answers['12'] = '1. Drama'\n",
        "answers['13'] = '5. Peter Jackson'\n",
        "answers['14'] = '3. Robert Rodriguez'\n",
        "answers['15'] = '3. Chris Hemsworth'\n",
        "answers['16'] = '3. Matt Damon'\n",
        "answers['17'] = '2. Action'\n",
        "answers['18'] = '1. K-19: The Widowmaker (tt0267626)'\n",
        "answers['19'] = '5. 2015'\n",
        "answers['20'] = '1. 2014'\n",
        "answers['21'] = '4. Сентябрь'\n",
        "answers['22'] = '2. 450'\n",
        "answers['23'] = '5. Peter Jackson'\n",
        "answers['24'] = '5. Four By Two Productions'\n",
        "answers['25'] = '3. Midnight Picture Show'\n",
        "answers['26'] = '1. Inside Out, The Dark Knight, 12 Years a Slave'\n",
        "answers['27'] = '5. Daniel Radcliffe & Rupert Grint'"
      ],
      "execution_count": null,
      "outputs": []
    },
    {
      "cell_type": "code",
      "metadata": {
        "id": "dZwb3m28Vp-S"
      },
      "source": [
        "# тут пишем ваш код для решения данного вопроса:\n",
        "answers['1'] = data_old.sort_values(['budget'],ascending=False).head(1).original_title #+"
      ],
      "execution_count": 69,
      "outputs": []
    },
    {
      "cell_type": "markdown",
      "metadata": {
        "id": "K7L3nbRXVp-X"
      },
      "source": [
        "ВАРИАНТ 2"
      ]
    },
    {
      "cell_type": "code",
      "metadata": {
        "id": "OGaoQI7rVp-X"
      },
      "source": [
        "# можно добавлять разные варианты решения\n",
        "answers['1'] = data_old[data_old.budget==data_old.budget.max()].original_title #+"
      ],
      "execution_count": 71,
      "outputs": []
    },
    {
      "cell_type": "markdown",
      "metadata": {
        "id": "FNRbbI3vVp-c"
      },
      "source": [
        "# 2. Какой из фильмов самый длительный (в минутах)?"
      ]
    },
    {
      "cell_type": "code",
      "metadata": {
        "id": "ot-VX2XrVp-g"
      },
      "source": [
        "answers['2'] = data_old.sort_values(['runtime'],ascending=False).head(1).original_title #+\n"
      ],
      "execution_count": 99,
      "outputs": []
    },
    {
      "cell_type": "markdown",
      "metadata": {
        "id": "bapLlpW8Vp-k"
      },
      "source": [
        "# 3. Какой из фильмов самый короткий (в минутах)?\n",
        "\n",
        "\n",
        "\n"
      ]
    },
    {
      "cell_type": "code",
      "metadata": {
        "id": "YBxaSHuAVp-l"
      },
      "source": [
        "answers['3'] = data_old.sort_values(['runtime'],ascending=True).head(1).original_title #+\n"
      ],
      "execution_count": 72,
      "outputs": []
    },
    {
      "cell_type": "markdown",
      "metadata": {
        "id": "TfQbxbfNVp-p"
      },
      "source": [
        "# 4. Какова средняя длительность фильмов?\n"
      ]
    },
    {
      "cell_type": "code",
      "metadata": {
        "id": "5K6dKZYVVp-q"
      },
      "source": [
        "answers['4'] = data_old['runtime'].mean() #+"
      ],
      "execution_count": 73,
      "outputs": []
    },
    {
      "cell_type": "markdown",
      "metadata": {
        "id": "r5TvbnT_Vp-u"
      },
      "source": [
        "# 5. Каково медианное значение длительности фильмов? "
      ]
    },
    {
      "cell_type": "code",
      "metadata": {
        "id": "iBROplKnVp-v"
      },
      "source": [
        "answers['5'] = data_old['runtime'].median() #+"
      ],
      "execution_count": 74,
      "outputs": []
    },
    {
      "cell_type": "markdown",
      "metadata": {
        "id": "39P-deDSVp-y"
      },
      "source": [
        "# 6. Какой самый прибыльный фильм?\n",
        "#### Внимание! Здесь и далее под «прибылью» или «убытками» понимается разность между сборами и бюджетом фильма. (прибыль = сборы - бюджет) в нашем датасете это будет (profit = revenue - budget) "
      ]
    },
    {
      "cell_type": "code",
      "metadata": {
        "id": "UYZh4T9WVp-y"
      },
      "source": [
        "answers['6'] = data_old[data_old.profit==data_old.profit.max()].original_title #+"
      ],
      "execution_count": 75,
      "outputs": []
    },
    {
      "cell_type": "markdown",
      "metadata": {
        "id": "M99JmIX4Vp-2"
      },
      "source": [
        "# 7. Какой фильм самый убыточный? "
      ]
    },
    {
      "cell_type": "code",
      "metadata": {
        "id": "w-D2m4XPVp-3"
      },
      "source": [
        "answers['7'] = data_old[data_old.profit==data_old.profit.min()].original_title #+"
      ],
      "execution_count": 76,
      "outputs": []
    },
    {
      "cell_type": "markdown",
      "metadata": {
        "id": "wEOM5ERVVp-6"
      },
      "source": [
        "# 8. У скольких фильмов из датасета объем сборов оказался выше бюджета?"
      ]
    },
    {
      "cell_type": "code",
      "metadata": {
        "id": "y00_7HD6Vp-7"
      },
      "source": [
        "answers['8'] = data_old[data_old.revenue>data_old.budget].imdb_id.count() #+"
      ],
      "execution_count": 77,
      "outputs": []
    },
    {
      "cell_type": "markdown",
      "metadata": {
        "id": "xhpspA9KVp_A"
      },
      "source": [
        "# 9. Какой фильм оказался самым кассовым в 2008 году?"
      ]
    },
    {
      "cell_type": "code",
      "metadata": {
        "id": "MoUyQr9RVp_B"
      },
      "source": [
        "tmp_data = data_old[(data_old.release_year==2008)]\n",
        "answers['9'] = tmp_data[(tmp_data.revenue==tmp_data.revenue.max())].original_title #+"
      ],
      "execution_count": 78,
      "outputs": []
    },
    {
      "cell_type": "markdown",
      "metadata": {
        "id": "Zi4hDKidVp_F"
      },
      "source": [
        "# 10. Самый убыточный фильм за период с 2012 по 2014 г. (включительно)?\n"
      ]
    },
    {
      "cell_type": "code",
      "metadata": {
        "id": "XqyRmufJVp_F"
      },
      "source": [
        "tmp_data = data_old[(data_old.release_year>=2012)&(data_old.release_year<=2014)]\n",
        "answers['10'] = tmp_data[(tmp_data.profit==tmp_data.profit.min())].original_title #+"
      ],
      "execution_count": 79,
      "outputs": []
    },
    {
      "cell_type": "markdown",
      "metadata": {
        "id": "EA7Sa9dkVp_I"
      },
      "source": [
        "# 11. Какого жанра фильмов больше всего?"
      ]
    },
    {
      "cell_type": "code",
      "metadata": {
        "id": "zsJAwJ8QVp_J"
      },
      "source": [
        "answers['11'] = data.groupby('new_genres', sort=False).imdb_id.nunique().sort_values(ascending=False).index[0]"
      ],
      "execution_count": 80,
      "outputs": []
    },
    {
      "cell_type": "markdown",
      "metadata": {
        "id": "Ax6g2C8SVp_M"
      },
      "source": [
        "ВАРИАНТ 2"
      ]
    },
    {
      "cell_type": "code",
      "metadata": {
        "id": "otO3SbrSVp_N"
      },
      "source": [
        ""
      ],
      "execution_count": 6,
      "outputs": []
    },
    {
      "cell_type": "markdown",
      "metadata": {
        "id": "T9_bPWpkVp_Q"
      },
      "source": [
        "# 12. Фильмы какого жанра чаще всего становятся прибыльными? "
      ]
    },
    {
      "cell_type": "code",
      "metadata": {
        "id": "Tmt8MaK1Vp_R"
      },
      "source": [
        "data_tmp = data[data.profit>0]\n",
        "answers['12'] = data_tmp.groupby('new_genres', sort=False).imdb_id.nunique().sort_values(ascending=False).index[0]"
      ],
      "execution_count": 81,
      "outputs": []
    },
    {
      "cell_type": "markdown",
      "metadata": {
        "id": "0F23bgsDVp_U"
      },
      "source": [
        "# 13. У какого режиссера самые большие суммарные кассовые сборы?"
      ]
    },
    {
      "cell_type": "code",
      "metadata": {
        "id": "K6Z3J8ygVp_X"
      },
      "source": [
        "data_tmp = data.groupby(['new_director','revenue']).agg({'revenue':'sum', 'imdb_id':'count'})\n",
        "data_tmp['rev'] = data_tmp['revenue']/data_tmp['imdb_id']\n",
        "answers['13'] = data_tmp.groupby(['new_director']).rev.sum().sort_values(ascending=False).index[0]"
      ],
      "execution_count": 82,
      "outputs": []
    },
    {
      "cell_type": "markdown",
      "metadata": {
        "id": "PsYC9FgRVp_a"
      },
      "source": [
        "# 14. Какой режисер снял больше всего фильмов в стиле Action?"
      ]
    },
    {
      "cell_type": "code",
      "metadata": {
        "id": "wd2M-wHeVp_b"
      },
      "source": [
        "data_tmp = data[data.new_genres=='Action']\n",
        "answers['14'] = data_tmp['new_director'].value_counts().index[0]"
      ],
      "execution_count": 83,
      "outputs": []
    },
    {
      "cell_type": "markdown",
      "metadata": {
        "id": "PQ0KciD7Vp_f"
      },
      "source": [
        "# 15. Фильмы с каким актером принесли самые высокие кассовые сборы в 2012 году? "
      ]
    },
    {
      "cell_type": "code",
      "metadata": {
        "id": "aga62oeKVp_g"
      },
      "source": [
        "data_tmp = data[data.release_year==2012].groupby(['new_cast','revenue']).agg({'revenue':'sum', 'imdb_id':'count'})\n",
        "data_tmp['rev'] = data_tmp['revenue']/data_tmp['imdb_id']\n",
        "answers['15'] = data_tmp.groupby(['new_cast']).rev.sum().sort_values(ascending=False).index[0]"
      ],
      "execution_count": 84,
      "outputs": []
    },
    {
      "cell_type": "markdown",
      "metadata": {
        "id": "mWHyyL7QVp_j"
      },
      "source": [
        "# 16. Какой актер снялся в большем количестве высокобюджетных фильмов?"
      ]
    },
    {
      "cell_type": "code",
      "metadata": {
        "id": "qQtmHKTFVp_k"
      },
      "source": [
        "#находим средний бюджет\n",
        "budgetAvg = data_old['budget'].mean()\n",
        "\n",
        "answers['16']  = data[data.budget>budgetAvg].groupby(['new_cast']).agg({'imdb_id':'nunique'}).sort_values(by='imdb_id',ascending=False).index[0]"
      ],
      "execution_count": 85,
      "outputs": []
    },
    {
      "cell_type": "markdown",
      "metadata": {
        "id": "NIh6AaW5Vp_n"
      },
      "source": [
        "# 17. В фильмах какого жанра больше всего снимался Nicolas Cage? "
      ]
    },
    {
      "cell_type": "code",
      "metadata": {
        "id": "H74SJDIBVp_n"
      },
      "source": [
        "answers['17'] = data[data.new_cast=='Nicolas Cage'].groupby(['new_genres']).count().sort_values(by='imdb_id',ascending=False).index[0]"
      ],
      "execution_count": 86,
      "outputs": []
    },
    {
      "cell_type": "markdown",
      "metadata": {
        "id": "RqOmPRfWVp_q"
      },
      "source": [
        "# 18. Самый убыточный фильм от Paramount Pictures"
      ]
    },
    {
      "cell_type": "code",
      "metadata": {
        "id": "9E_B0Y96Vp_r"
      },
      "source": [
        "answers['18'] = data[data.new_production_companies=='Paramount Pictures'].sort_values(by='profit',ascending=True).original_title.head(1)"
      ],
      "execution_count": 87,
      "outputs": []
    },
    {
      "cell_type": "markdown",
      "metadata": {
        "id": "vS8Ur6ddVp_u"
      },
      "source": [
        "# 19. Какой год стал самым успешным по суммарным кассовым сборам?"
      ]
    },
    {
      "cell_type": "code",
      "metadata": {
        "id": "Dnbt4GdIVp_v"
      },
      "source": [
        "answers['19']  = data_old.groupby(['release_year']).agg({'revenue':'sum'}).sort_values(by='revenue',ascending=False).index[0]"
      ],
      "execution_count": 88,
      "outputs": []
    },
    {
      "cell_type": "markdown",
      "metadata": {
        "id": "JAzJh4QAVp_z"
      },
      "source": [
        "# 20. Какой самый прибыльный год для студии Warner Bros?"
      ]
    },
    {
      "cell_type": "code",
      "metadata": {
        "id": "wgVu02DEVp_0"
      },
      "source": [
        "answers['20'] = data_old[data_old.production_companies.str.contains('Warner Bros')].groupby(['release_year']).agg({'profit':'sum'}).sort_values(by='profit',ascending=False).index[0]"
      ],
      "execution_count": 89,
      "outputs": []
    },
    {
      "cell_type": "markdown",
      "metadata": {
        "id": "8Im1S2HRVp_4"
      },
      "source": [
        "# 21. В каком месяце за все годы суммарно вышло больше всего фильмов?"
      ]
    },
    {
      "cell_type": "code",
      "metadata": {
        "id": "lev6TH7gVp_4"
      },
      "source": [
        "answers['21'] = data_old.groupby(['month']).imdb_id.count().sort_values(ascending=False).index[0]"
      ],
      "execution_count": 90,
      "outputs": []
    },
    {
      "cell_type": "markdown",
      "metadata": {
        "id": "uAJsZ_NeVp_7"
      },
      "source": [
        "# 22. Сколько суммарно вышло фильмов летом? (за июнь, июль, август)"
      ]
    },
    {
      "cell_type": "code",
      "metadata": {
        "id": "Aa-hEREoVp_8"
      },
      "source": [
        "answers['22'] = data_old[(data_old.month>=6)&(data_old.month<=8)].imdb_id.count()"
      ],
      "execution_count": 91,
      "outputs": []
    },
    {
      "cell_type": "markdown",
      "metadata": {
        "id": "G94ppOY1VqAA"
      },
      "source": [
        "# 23. Для какого режиссера зима – самое продуктивное время года? "
      ]
    },
    {
      "cell_type": "code",
      "metadata": {
        "id": "RhNTsamuVqAB"
      },
      "source": [
        "answers['23'] = data[(data.month==12)|(data.month<=2)].groupby(['director']).agg({'imdb_id':'nunique'}).sort_values(by='imdb_id',ascending=False).index[0]"
      ],
      "execution_count": 92,
      "outputs": []
    },
    {
      "cell_type": "markdown",
      "metadata": {
        "id": "RBo0JVjVVqAF"
      },
      "source": [
        "# 24. Какая студия дает самые длинные названия своим фильмам по количеству символов?"
      ]
    },
    {
      "cell_type": "code",
      "metadata": {
        "id": "QRGS8L0iVqAG"
      },
      "source": [
        "data['title_len'] = data['original_title'].apply(lambda x: len(x))\n",
        "answers['24'] = data[data.title_len == data.title_len.max()].production_companies.head(1)"
      ],
      "execution_count": 93,
      "outputs": []
    },
    {
      "cell_type": "markdown",
      "metadata": {
        "id": "9G0hbvR7VqAK"
      },
      "source": [
        "# 25. Описание фильмов какой студии в среднем самые длинные по количеству слов?"
      ]
    },
    {
      "cell_type": "code",
      "metadata": {
        "id": "Ge2GsLNxVqAK"
      },
      "source": [
        "data25 = data_old\n",
        "data25['new_production_companies'] = data25.production_companies.str.split(\"|\")\n",
        "data25 = data25.explode('new_production_companies')\n",
        "\n",
        "data25['words_num'] = data25['overview'].apply(lambda x: len(x.split(' ')))\n",
        "answers['25']  = data25.groupby(['new_production_companies']).words_num.mean().sort_values(ascending=False).index[0]"
      ],
      "execution_count": 94,
      "outputs": []
    },
    {
      "cell_type": "markdown",
      "metadata": {
        "id": "FJ1AFt90VqAP"
      },
      "source": [
        "# 26. Какие фильмы входят в 1 процент лучших по рейтингу? \n",
        "по vote_average"
      ]
    },
    {
      "cell_type": "code",
      "metadata": {
        "id": "8qmJVq4CVqAQ"
      },
      "source": [
        "data26 = data_old\n",
        "answers['26']  = data_old.sort_values(['vote_average'],ascending=False).head(round(len(data_old)*0.01)).original_title"
      ],
      "execution_count": 95,
      "outputs": []
    },
    {
      "cell_type": "markdown",
      "metadata": {
        "id": "MdXsUXbCVqAV"
      },
      "source": [
        "# 27. Какие актеры чаще всего снимаются в одном фильме вместе?\n"
      ]
    },
    {
      "cell_type": "code",
      "metadata": {
        "id": "bYtiXcJ3PFEU"
      },
      "source": [
        "from itertools import combinations\n",
        "\n",
        "data27 = data_old\n",
        "data27['new_cast'] = data27.cast.str.split(\"|\")\n",
        "#создаем в столбце список с комбинациями актеров по 2 в 1 комбинации\n",
        "data27['pairs'] = data27['new_cast'].apply(lambda s: list(combinations(s, 2)))\n",
        "data27 = data27.explode('pairs')\n",
        "\n",
        "answers['27'] = data27.groupby(['pairs']).pairs.count().sort_values(ascending=False).head(2) #+"
      ],
      "execution_count": 96,
      "outputs": []
    },
    {
      "cell_type": "markdown",
      "metadata": {
        "id": "4ymnxEVoVqAW"
      },
      "source": [
        "ВАРИАНТ 2"
      ]
    },
    {
      "cell_type": "markdown",
      "metadata": {
        "id": "U0nONFnGVqAX"
      },
      "source": [
        "# Submission"
      ]
    },
    {
      "cell_type": "code",
      "metadata": {
        "id": "03BgRz1ZgJFW"
      },
      "source": [
        "# в словарь вставляем номер вопроса и ваш ответ на него\n",
        "answers['1'] = '5. Pirates of the Caribbean: On Stranger Tides (tt1298650)'\n",
        "answers['2'] = '2. Gods and Generals (tt0279111)'\n",
        "answers['3'] = '3. Winnie the Pooh (tt1449283)'\n",
        "answers['4'] = '2. 110'\n",
        "answers['5'] = '1. 107'\n",
        "answers['6'] = '5. Avatar (tt0499549)'\n",
        "answers['7'] = '5. The Lone Ranger (tt1210819)'\n",
        "answers['8'] = '1. 1478'\n",
        "answers['9'] = '4. The Dark Knight (tt0468569)'\n",
        "answers['10'] = '5. The Lone Ranger (tt1210819)'\n",
        "answers['11'] = '3. Drama'\n",
        "answers['12'] = '1. Drama'\n",
        "answers['13'] = '5. Peter Jackson'\n",
        "answers['14'] = '3. Robert Rodriguez'\n",
        "answers['15'] = '3. Chris Hemsworth'\n",
        "answers['16'] = '3. Matt Damon'\n",
        "answers['17'] = '2. Action'\n",
        "answers['18'] = '1. K-19: The Widowmaker (tt0267626)'\n",
        "answers['19'] = '5. 2015'\n",
        "answers['20'] = '1. 2014'\n",
        "answers['21'] = '4. Сентябрь'\n",
        "answers['22'] = '2. 450'\n",
        "answers['23'] = '5. Peter Jackson'\n",
        "answers['24'] = '5. Four By Two Productions'\n",
        "answers['25'] = '3. Midnight Picture Show'\n",
        "answers['26'] = '1. Inside Out, The Dark Knight, 12 Years a Slave'\n",
        "answers['27'] = '5. Daniel Radcliffe & Rupert Grint'"
      ],
      "execution_count": 102,
      "outputs": []
    },
    {
      "cell_type": "code",
      "metadata": {
        "id": "IfcaRO9-VqAX",
        "colab": {
          "base_uri": "https://localhost:8080/"
        },
        "outputId": "7222cd6f-f3f7-4c1a-f34b-779452fc8f69"
      },
      "source": [
        "# в конце можно посмотреть свои ответы к каждому вопросу\n",
        "answers"
      ],
      "execution_count": 103,
      "outputs": [
        {
          "output_type": "execute_result",
          "data": {
            "text/plain": [
              "{'1': '5. Pirates of the Caribbean: On Stranger Tides (tt1298650)',\n",
              " '10': '5. The Lone Ranger (tt1210819)',\n",
              " '11': '3. Drama',\n",
              " '12': '1. Drama',\n",
              " '13': '5. Peter Jackson',\n",
              " '14': '3. Robert Rodriguez',\n",
              " '15': '3. Chris Hemsworth',\n",
              " '16': '3. Matt Damon',\n",
              " '17': '2. Action',\n",
              " '18': '1. K-19: The Widowmaker (tt0267626)',\n",
              " '19': '5. 2015',\n",
              " '2': '2. Gods and Generals (tt0279111)',\n",
              " '20': '1. 2014',\n",
              " '21': '4. Сентябрь',\n",
              " '22': '2. 450',\n",
              " '23': '5. Peter Jackson',\n",
              " '24': '5. Four By Two Productions',\n",
              " '25': '3. Midnight Picture Show',\n",
              " '26': '1. Inside Out, The Dark Knight, 12 Years a Slave',\n",
              " '27': '5. Daniel Radcliffe & Rupert Grint',\n",
              " '3': '3. Winnie the Pooh (tt1449283)',\n",
              " '4': '2. 110',\n",
              " '5': '1. 107',\n",
              " '6': '5. Avatar (tt0499549)',\n",
              " '7': '5. The Lone Ranger (tt1210819)',\n",
              " '8': '1. 1478',\n",
              " '9': '4. The Dark Knight (tt0468569)'}"
            ]
          },
          "metadata": {
            "tags": []
          },
          "execution_count": 103
        }
      ]
    },
    {
      "cell_type": "code",
      "metadata": {
        "id": "SiRmHPl8VqAd",
        "colab": {
          "base_uri": "https://localhost:8080/"
        },
        "outputId": "d10201fb-1949-4787-96fc-5e17e1f89761"
      },
      "source": [
        "# и убедиться что ни чего не пропустил)\n",
        "len(answers)"
      ],
      "execution_count": 104,
      "outputs": [
        {
          "output_type": "execute_result",
          "data": {
            "text/plain": [
              "27"
            ]
          },
          "metadata": {
            "tags": []
          },
          "execution_count": 104
        }
      ]
    }
  ]
}